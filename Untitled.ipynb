{
 "cells": [
  {
   "cell_type": "code",
   "execution_count": 1,
   "id": "7ebb2cdc",
   "metadata": {},
   "outputs": [
    {
     "data": {
      "text/html": [
       "<div>\n",
       "<style scoped>\n",
       "    .dataframe tbody tr th:only-of-type {\n",
       "        vertical-align: middle;\n",
       "    }\n",
       "\n",
       "    .dataframe tbody tr th {\n",
       "        vertical-align: top;\n",
       "    }\n",
       "\n",
       "    .dataframe thead th {\n",
       "        text-align: right;\n",
       "    }\n",
       "</style>\n",
       "<table border=\"1\" class=\"dataframe\">\n",
       "  <thead>\n",
       "    <tr style=\"text-align: right;\">\n",
       "      <th></th>\n",
       "      <th>ID</th>\n",
       "      <th>Year_Birth</th>\n",
       "      <th>Education</th>\n",
       "      <th>Marital_Status</th>\n",
       "      <th>Income</th>\n",
       "      <th>Kidhome</th>\n",
       "      <th>Teenhome</th>\n",
       "      <th>Dt_Customer</th>\n",
       "      <th>Recency</th>\n",
       "      <th>MntWines</th>\n",
       "      <th>...</th>\n",
       "      <th>NumWebVisitsMonth</th>\n",
       "      <th>AcceptedCmp3</th>\n",
       "      <th>AcceptedCmp4</th>\n",
       "      <th>AcceptedCmp5</th>\n",
       "      <th>AcceptedCmp1</th>\n",
       "      <th>AcceptedCmp2</th>\n",
       "      <th>Complain</th>\n",
       "      <th>Z_CostContact</th>\n",
       "      <th>Z_Revenue</th>\n",
       "      <th>Response</th>\n",
       "    </tr>\n",
       "  </thead>\n",
       "  <tbody>\n",
       "    <tr>\n",
       "      <th>0</th>\n",
       "      <td>5524</td>\n",
       "      <td>1957</td>\n",
       "      <td>Graduation</td>\n",
       "      <td>Single</td>\n",
       "      <td>58138.0</td>\n",
       "      <td>0</td>\n",
       "      <td>0</td>\n",
       "      <td>04-09-2012</td>\n",
       "      <td>58</td>\n",
       "      <td>635</td>\n",
       "      <td>...</td>\n",
       "      <td>7</td>\n",
       "      <td>0</td>\n",
       "      <td>0</td>\n",
       "      <td>0</td>\n",
       "      <td>0</td>\n",
       "      <td>0</td>\n",
       "      <td>0</td>\n",
       "      <td>3</td>\n",
       "      <td>11</td>\n",
       "      <td>1</td>\n",
       "    </tr>\n",
       "    <tr>\n",
       "      <th>1</th>\n",
       "      <td>2174</td>\n",
       "      <td>1954</td>\n",
       "      <td>Graduation</td>\n",
       "      <td>Single</td>\n",
       "      <td>46344.0</td>\n",
       "      <td>1</td>\n",
       "      <td>1</td>\n",
       "      <td>08-03-2014</td>\n",
       "      <td>38</td>\n",
       "      <td>11</td>\n",
       "      <td>...</td>\n",
       "      <td>5</td>\n",
       "      <td>0</td>\n",
       "      <td>0</td>\n",
       "      <td>0</td>\n",
       "      <td>0</td>\n",
       "      <td>0</td>\n",
       "      <td>0</td>\n",
       "      <td>3</td>\n",
       "      <td>11</td>\n",
       "      <td>0</td>\n",
       "    </tr>\n",
       "    <tr>\n",
       "      <th>2</th>\n",
       "      <td>4141</td>\n",
       "      <td>1965</td>\n",
       "      <td>Graduation</td>\n",
       "      <td>Together</td>\n",
       "      <td>71613.0</td>\n",
       "      <td>0</td>\n",
       "      <td>0</td>\n",
       "      <td>21-08-2013</td>\n",
       "      <td>26</td>\n",
       "      <td>426</td>\n",
       "      <td>...</td>\n",
       "      <td>4</td>\n",
       "      <td>0</td>\n",
       "      <td>0</td>\n",
       "      <td>0</td>\n",
       "      <td>0</td>\n",
       "      <td>0</td>\n",
       "      <td>0</td>\n",
       "      <td>3</td>\n",
       "      <td>11</td>\n",
       "      <td>0</td>\n",
       "    </tr>\n",
       "    <tr>\n",
       "      <th>3</th>\n",
       "      <td>6182</td>\n",
       "      <td>1984</td>\n",
       "      <td>Graduation</td>\n",
       "      <td>Together</td>\n",
       "      <td>26646.0</td>\n",
       "      <td>1</td>\n",
       "      <td>0</td>\n",
       "      <td>10-02-2014</td>\n",
       "      <td>26</td>\n",
       "      <td>11</td>\n",
       "      <td>...</td>\n",
       "      <td>6</td>\n",
       "      <td>0</td>\n",
       "      <td>0</td>\n",
       "      <td>0</td>\n",
       "      <td>0</td>\n",
       "      <td>0</td>\n",
       "      <td>0</td>\n",
       "      <td>3</td>\n",
       "      <td>11</td>\n",
       "      <td>0</td>\n",
       "    </tr>\n",
       "    <tr>\n",
       "      <th>4</th>\n",
       "      <td>5324</td>\n",
       "      <td>1981</td>\n",
       "      <td>PhD</td>\n",
       "      <td>Married</td>\n",
       "      <td>58293.0</td>\n",
       "      <td>1</td>\n",
       "      <td>0</td>\n",
       "      <td>19-01-2014</td>\n",
       "      <td>94</td>\n",
       "      <td>173</td>\n",
       "      <td>...</td>\n",
       "      <td>5</td>\n",
       "      <td>0</td>\n",
       "      <td>0</td>\n",
       "      <td>0</td>\n",
       "      <td>0</td>\n",
       "      <td>0</td>\n",
       "      <td>0</td>\n",
       "      <td>3</td>\n",
       "      <td>11</td>\n",
       "      <td>0</td>\n",
       "    </tr>\n",
       "  </tbody>\n",
       "</table>\n",
       "<p>5 rows × 29 columns</p>\n",
       "</div>"
      ],
      "text/plain": [
       "     ID  Year_Birth   Education Marital_Status   Income  Kidhome  Teenhome  \\\n",
       "0  5524        1957  Graduation         Single  58138.0        0         0   \n",
       "1  2174        1954  Graduation         Single  46344.0        1         1   \n",
       "2  4141        1965  Graduation       Together  71613.0        0         0   \n",
       "3  6182        1984  Graduation       Together  26646.0        1         0   \n",
       "4  5324        1981         PhD        Married  58293.0        1         0   \n",
       "\n",
       "  Dt_Customer  Recency  MntWines  ...  NumWebVisitsMonth  AcceptedCmp3  \\\n",
       "0  04-09-2012       58       635  ...                  7             0   \n",
       "1  08-03-2014       38        11  ...                  5             0   \n",
       "2  21-08-2013       26       426  ...                  4             0   \n",
       "3  10-02-2014       26        11  ...                  6             0   \n",
       "4  19-01-2014       94       173  ...                  5             0   \n",
       "\n",
       "   AcceptedCmp4  AcceptedCmp5  AcceptedCmp1  AcceptedCmp2  Complain  \\\n",
       "0             0             0             0             0         0   \n",
       "1             0             0             0             0         0   \n",
       "2             0             0             0             0         0   \n",
       "3             0             0             0             0         0   \n",
       "4             0             0             0             0         0   \n",
       "\n",
       "   Z_CostContact  Z_Revenue  Response  \n",
       "0              3         11         1  \n",
       "1              3         11         0  \n",
       "2              3         11         0  \n",
       "3              3         11         0  \n",
       "4              3         11         0  \n",
       "\n",
       "[5 rows x 29 columns]"
      ]
     },
     "execution_count": 1,
     "metadata": {},
     "output_type": "execute_result"
    }
   ],
   "source": [
    "import pandas as pd\n",
    "\n",
    "import numpy as np\n",
    "\n",
    "import matplotlib.pyplot as plt\n",
    "\n",
    "# import plotly as ply\n",
    "\n",
    "data = pd.read_csv(\"https://raw.githubusercontent.com/AllanMisasaUCL/SoftwarekonstruktionE21/main/marketing_campaign.csv\", sep='\\t')\n",
    "\n",
    "data.head()"
   ]
  },
  {
   "cell_type": "code",
   "execution_count": 2,
   "id": "fc3032f2",
   "metadata": {},
   "outputs": [],
   "source": [
    "def manuel_sum(liste):\n",
    "    x=0\n",
    "    for float64 in liste:\n",
    "        x+=float64\n",
    "    avg= x / len(data['Income'])\n",
    "        \n",
    "    return avg #definer fukntion med forskellige inputs"
   ]
  },
  {
   "cell_type": "code",
   "execution_count": 3,
   "id": "90958f83",
   "metadata": {},
   "outputs": [],
   "source": [
    "liste4= data['Income']"
   ]
  },
  {
   "cell_type": "code",
   "execution_count": 4,
   "id": "79dc9dea",
   "metadata": {},
   "outputs": [],
   "source": [
    "newlist = [x for x in liste4 if np.isnan(x) == False]"
   ]
  },
  {
   "cell_type": "code",
   "execution_count": 5,
   "id": "d111770f",
   "metadata": {},
   "outputs": [
    {
     "name": "stdout",
     "output_type": "stream",
     "text": [
      "Den gennemsnitslige indkomst er: 51687.459375\n"
     ]
    }
   ],
   "source": [
    "print('Den gennemsnitslige indkomst er:',manuel_sum(newlist))"
   ]
  },
  {
   "cell_type": "code",
   "execution_count": 6,
   "id": "c1387939",
   "metadata": {},
   "outputs": [],
   "source": [
    "def plot(tal):\n",
    "    kolonner = data.columns\n",
    "    valg = kolonner[tal]\n",
    "    graf = plt.plot(data[valg])"
   ]
  },
  {
   "cell_type": "code",
   "execution_count": 7,
   "id": "be4221ae",
   "metadata": {},
   "outputs": [],
   "source": [
    "sortetindkomst = np.sort(data['Income'])"
   ]
  },
  {
   "cell_type": "code",
   "execution_count": 8,
   "id": "67c73516",
   "metadata": {},
   "outputs": [
    {
     "data": {
      "text/plain": [
       "[<matplotlib.lines.Line2D at 0x1bfe6bfe1c0>]"
      ]
     },
     "execution_count": 8,
     "metadata": {},
     "output_type": "execute_result"
    },
    {
     "data": {
      "image/png": "[encoded data removed]",
      "text/plain": [
       "<Figure size 432x288 with 1 Axes>"
      ]
     },
     "metadata": {
      "needs_background": "light"
     },
     "output_type": "display_data"
    }
   ],
   "source": [
    "plt.plot(sortetindkomst)"
   ]
  },
  {
   "cell_type": "code",
   "execution_count": 9,
   "id": "f80da25b",
   "metadata": {},
   "outputs": [
    {
     "name": "stdout",
     "output_type": "stream",
     "text": [
      "0         Single\n",
      "1         Single\n",
      "2       Together\n",
      "3       Together\n",
      "4        Married\n",
      "          ...   \n",
      "2235     Married\n",
      "2236    Together\n",
      "2237    Divorced\n",
      "2238    Together\n",
      "2239     Married\n",
      "Name: Marital_Status, Length: 2240, dtype: object\n"
     ]
    }
   ],
   "source": [
    "marital1 = data[\"Marital_Status\"]\n",
    "print(marital1)"
   ]
  },
  {
   "cell_type": "code",
   "execution_count": 10,
   "id": "1362ae65",
   "metadata": {},
   "outputs": [],
   "source": [
    "def sum_marital(names):\n",
    "    d={}\n",
    "    for i in range(len(names)-1):\n",
    "        x=names[i]\n",
    "        c=0\n",
    "        for j in range(i,len(names)):\n",
    "            if names[j]==names[i]:\n",
    "                c=c+1\n",
    "        count=dict({x:c})\n",
    "        if x not in d.keys():\n",
    "            d.update(count)\n",
    "    return (d)"
   ]
  },
  {
   "cell_type": "code",
   "execution_count": 12,
   "id": "bdf1a8e4",
   "metadata": {},
   "outputs": [
    {
     "name": "stdout",
     "output_type": "stream",
     "text": [
      "HVilken piechart vil du gerne vise? Valgmuligheder: Marital_Status , Education \n",
      "Education\n"
     ]
    },
    {
     "data": {
      "text/plain": [
       "([<matplotlib.patches.Wedge at 0x1bfe74bc400>,\n",
       "  <matplotlib.patches.Wedge at 0x1bfe74bcaf0>,\n",
       "  <matplotlib.patches.Wedge at 0x1bfe74c91c0>,\n",
       "  <matplotlib.patches.Wedge at 0x1bfe74c9850>,\n",
       "  <matplotlib.patches.Wedge at 0x1bfe74c9ee0>],\n",
       " [Text(-0.010799092464652335, 1.099946989450828, 'Graduation'),\n",
       "  Text(-0.840441051704004, -0.7096892549635142, 'PhD'),\n",
       "  Text(0.3574766803682644, -1.0402934311976049, 'Master'),\n",
       "  Text(0.8789115825528123, -0.6614487357721013, 'Basic'),\n",
       "  Text(1.0557184669070827, -0.30896362023927554, '2n Cycle')],\n",
       " [Text(-0.005890414071628546, 0.5999710851549971, '50.3%'),\n",
       "  Text(-0.45842239183854755, -0.38710322998009866, '21.7%'),\n",
       "  Text(0.1949872802008715, -0.567432780653239, '16.5%'),\n",
       "  Text(0.47940631775607934, -0.3607902195120552, '2.4%'),\n",
       "  Text(0.5758464364947723, -0.16852561103960484, '9.1%')])"
      ]
     },
     "execution_count": 12,
     "metadata": {},
     "output_type": "execute_result"
    },
    {
     "data": {
      "image/png": "[encoded data removed]",
      "text/plain": [
       "<Figure size 432x288 with 1 Axes>"
      ]
     },
     "metadata": {},
     "output_type": "display_data"
    }
   ],
   "source": [
    "print('HVilken piechart vil du gerne vise? Valgmuligheder: Marital_Status , Education ')\n",
    "inputt = input('')\n",
    "namess = data[inputt]\n",
    "\n",
    "giftsum = sum_marital(namess)\n",
    "giftsumm = giftsum.items()\n",
    "data_list=list(giftsumm)\n",
    "\n",
    "df1 = pd.DataFrame(data_list)\n",
    "\n",
    "dataaa=df1[1]\n",
    "labelsss=df1[0]\n",
    "\n",
    "plt.pie(dataaa,labels=labelsss,autopct='%1.1f%%')\n"
   ]
  },
  {
   "cell_type": "code",
   "execution_count": 13,
   "id": "36ecfadd",
   "metadata": {},
   "outputs": [
    {
     "name": "stdout",
     "output_type": "stream",
     "text": [
      "Hvilken gennemsnitsberegning vil du gerne vise?\n",
      "Sorteringsmuligheder: Marital_Status, Education\n",
      "Marital_Status\n",
      "Hvilke data vil du gerne se?\n",
      "Data muligheder: Income, Kidhome, Teenhome bla bla\n",
      "Income\n",
      "  Marital_Status        Income\n",
      "0         Absurd  72365.500000\n",
      "1          Alone  43789.000000\n",
      "2       Divorced  52834.228448\n",
      "3        Married  51724.978996\n",
      "4         Single  50995.350318\n",
      "5       Together  53245.534031\n",
      "6          Widow  56481.552632\n",
      "7           YOLO  48432.000000\n"
     ]
    },
    {
     "data": {
      "text/plain": [
       "<function matplotlib.pyplot.show(close=None, block=None)>"
      ]
     },
     "execution_count": 13,
     "metadata": {},
     "output_type": "execute_result"
    },
    {
     "data": {
      "image/png": "[encoded data removed]",
      "text/plain": [
       "<Figure size 432x288 with 1 Axes>"
      ]
     },
     "metadata": {
      "needs_background": "light"
     },
     "output_type": "display_data"
    }
   ],
   "source": [
    "print('Hvilken gennemsnitsberegning vil du gerne vise?')\n",
    "print('Sorteringsmuligheder: Marital_Status, Education')\n",
    "sortering = input('')\n",
    "print('Hvilke data vil du gerne se?')\n",
    "print('Data muligheder: Income, Kidhome, Teenhome bla bla')\n",
    "datamulig = input('')\n",
    "dff = data.groupby([sortering]).mean().reset_index()\n",
    "\n",
    "print(dff[[sortering, datamulig]])\n",
    "plt.bar(dff[sortering],dff[datamulig])\n",
    "plt.show"
   ]
  },
  {
   "cell_type": "code",
   "execution_count": null,
   "id": "bd57a40f",
   "metadata": {},
   "outputs": [],
   "source": []
  }
 ],
 "metadata": {
  "kernelspec": {
   "display_name": "Python 3",
   "language": "python",
   "name": "python3"
  },
  "language_info": {
   "codemirror_mode": {
    "name": "ipython",
    "version": 3
   },
   "file_extension": ".py",
   "mimetype": "text/x-python",
   "name": "python",
   "nbconvert_exporter": "python",
   "pygments_lexer": "ipython3",
   "version": "3.8.8"
  }
 },
 "nbformat": 4,
 "nbformat_minor": 5
}
